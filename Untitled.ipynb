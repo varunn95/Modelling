{
 "cells": [
  {
   "cell_type": "code",
   "execution_count": 1,
   "metadata": {},
   "outputs": [
    {
     "name": "stderr",
     "output_type": "stream",
     "text": [
      "C:\\Users\\Varun\\Anaconda3\\lib\\site-packages\\ema_workbench\\em_framework\\optimization.py:29: ImportWarning: platypus based optimization not available\n",
      "  warnings.warn(\"platypus based optimization not available\", ImportWarning)\n",
      "C:\\Users\\Varun\\Anaconda3\\lib\\importlib\\_bootstrap.py:219: ImportWarning: can't resolve package from __spec__ or __package__, falling back on __name__ and __path__\n",
      "  return f(*args, **kwds)\n",
      "C:\\Users\\Varun\\Anaconda3\\lib\\importlib\\_bootstrap.py:219: ImportWarning: can't resolve package from __spec__ or __package__, falling back on __name__ and __path__\n",
      "  return f(*args, **kwds)\n"
     ]
    }
   ],
   "source": [
    "from dike_model_function import DikeNetwork\n",
    "import dike_model_optimization\n",
    "import dike_model_simulation\n",
    "import problem_formulation\n",
    "from ema_workbench import Policy, perform_experiments, optimize\n",
    "from ema_workbench import ema_logging\n",
    "import ema_workbench\n",
    "import seaborn as sns\n",
    "import pandas as pd\n",
    "import numpy as np\n",
    "import matplotlib.pyplot as plt\n",
    "import copy"
   ]
  },
  {
   "cell_type": "code",
   "execution_count": 2,
   "metadata": {},
   "outputs": [
    {
     "data": {
      "text/plain": [
       "<Logger EMA (DEBUG)>"
      ]
     },
     "execution_count": 2,
     "metadata": {},
     "output_type": "execute_result"
    }
   ],
   "source": [
    "model = problem_formulation.get_model_for_problem_formulation(3)\n",
    "ema_logging.log_to_stderr(ema_logging.INFO)"
   ]
  },
  {
   "cell_type": "code",
   "execution_count": 3,
   "metadata": {},
   "outputs": [
    {
     "ename": "NameError",
     "evalue": "name 'dike_model' is not defined",
     "output_type": "error",
     "traceback": [
      "\u001b[1;31m---------------------------------------------------------------------------\u001b[0m",
      "\u001b[1;31mNameError\u001b[0m                                 Traceback (most recent call last)",
      "\u001b[1;32m<ipython-input-3-2cf2235763c1>\u001b[0m in \u001b[0;36m<module>\u001b[1;34m()\u001b[0m\n\u001b[1;32m----> 1\u001b[1;33m \u001b[0mdike_model\u001b[0m\u001b[1;33m.\u001b[0m\u001b[0moutcomes\u001b[0m\u001b[1;33m.\u001b[0m\u001b[0mkeys\u001b[0m\u001b[1;33m(\u001b[0m\u001b[1;33m)\u001b[0m\u001b[1;33m\u001b[0m\u001b[0m\n\u001b[0m",
      "\u001b[1;31mNameError\u001b[0m: name 'dike_model' is not defined"
     ]
    }
   ],
   "source": [
    "dike_model.outcomes.keys()"
   ]
  },
  {
   "cell_type": "code",
   "execution_count": 4,
   "metadata": {},
   "outputs": [
    {
     "name": "stderr",
     "output_type": "stream",
     "text": [
      "[MainProcess/INFO] pool started\n",
      "[MainProcess/INFO] terminating pool\n"
     ]
    },
    {
     "ename": "AttributeError",
     "evalue": "'NoneType' object has no attribute 'Real'",
     "output_type": "error",
     "traceback": [
      "\u001b[1;31m---------------------------------------------------------------------------\u001b[0m",
      "\u001b[1;31mAttributeError\u001b[0m                            Traceback (most recent call last)",
      "\u001b[1;32m<ipython-input-4-13f266c4d502>\u001b[0m in \u001b[0;36m<module>\u001b[1;34m()\u001b[0m\n\u001b[0;32m     50\u001b[0m                                               \u001b[0mconvergence\u001b[0m\u001b[1;33m=\u001b[0m\u001b[0mconvergence_metrics\u001b[0m\u001b[1;33m,\u001b[0m\u001b[1;33m\u001b[0m\u001b[0m\n\u001b[0;32m     51\u001b[0m                                               \u001b[0mreference\u001b[0m\u001b[1;33m=\u001b[0m\u001b[0mref_scenario\u001b[0m\u001b[1;33m,\u001b[0m\u001b[1;33m\u001b[0m\u001b[0m\n\u001b[1;32m---> 52\u001b[1;33m                                               \u001b[0mconstraints\u001b[0m \u001b[1;33m=\u001b[0m \u001b[0mconstraints\u001b[0m\u001b[1;33m\u001b[0m\u001b[0m\n\u001b[0m\u001b[0;32m     53\u001b[0m                                               )\n\u001b[0;32m     54\u001b[0m \u001b[1;33m\u001b[0m\u001b[0m\n",
      "\u001b[1;32m~\\Anaconda3\\lib\\site-packages\\ema_workbench\\em_framework\\evaluators.py\u001b[0m in \u001b[0;36moptimize\u001b[1;34m(self, algorithm, nfe, searchover, reference, constraints, **kwargs)\u001b[0m\n\u001b[0;32m    176\u001b[0m         return optimize(self._msis, algorithm=algorithm, nfe=nfe,\n\u001b[0;32m    177\u001b[0m                         \u001b[0msearchover\u001b[0m\u001b[1;33m=\u001b[0m\u001b[0msearchover\u001b[0m\u001b[1;33m,\u001b[0m \u001b[0mevaluator\u001b[0m\u001b[1;33m=\u001b[0m\u001b[0mself\u001b[0m\u001b[1;33m,\u001b[0m\u001b[1;33m\u001b[0m\u001b[0m\n\u001b[1;32m--> 178\u001b[1;33m                         reference=reference, constraints=constraints, **kwargs)\n\u001b[0m\u001b[0;32m    179\u001b[0m \u001b[1;33m\u001b[0m\u001b[0m\n\u001b[0;32m    180\u001b[0m     def robust_optimize(self, robustness_functions, scenarios,\n",
      "\u001b[1;32m~\\Anaconda3\\lib\\site-packages\\ema_workbench\\em_framework\\evaluators.py\u001b[0m in \u001b[0;36moptimize\u001b[1;34m(models, algorithm, nfe, searchover, evaluator, reference, convergence, constraints, **kwargs)\u001b[0m\n\u001b[0;32m    485\u001b[0m \u001b[1;33m\u001b[0m\u001b[0m\n\u001b[0;32m    486\u001b[0m     problem = to_problem(models, searchover, constraints=constraints, \n\u001b[1;32m--> 487\u001b[1;33m                          reference=reference)\n\u001b[0m\u001b[0;32m    488\u001b[0m \u001b[1;33m\u001b[0m\u001b[0m\n\u001b[0;32m    489\u001b[0m     \u001b[1;31m# solve the optimization problem\u001b[0m\u001b[1;33m\u001b[0m\u001b[1;33m\u001b[0m\u001b[0m\n",
      "\u001b[1;32m~\\Anaconda3\\lib\\site-packages\\ema_workbench\\em_framework\\optimization.py\u001b[0m in \u001b[0;36mto_problem\u001b[1;34m(model, searchover, reference, constraints)\u001b[0m\n\u001b[0;32m    117\u001b[0m \u001b[1;33m\u001b[0m\u001b[0m\n\u001b[0;32m    118\u001b[0m     '''\n\u001b[1;32m--> 119\u001b[1;33m     _type_mapping = {RealParameter: platypus.Real,\n\u001b[0m\u001b[0;32m    120\u001b[0m                      \u001b[0mIntegerParameter\u001b[0m\u001b[1;33m:\u001b[0m \u001b[0mplatypus\u001b[0m\u001b[1;33m.\u001b[0m\u001b[0mInteger\u001b[0m\u001b[1;33m,\u001b[0m\u001b[1;33m\u001b[0m\u001b[0m\n\u001b[0;32m    121\u001b[0m                      CategoricalParameter: platypus.Permutation}\n",
      "\u001b[1;31mAttributeError\u001b[0m: 'NoneType' object has no attribute 'Real'"
     ]
    }
   ],
   "source": [
    "from __future__ import (unicode_literals, print_function, absolute_import,\n",
    "                        division)\n",
    "from ema_workbench import (Model, MultiprocessingEvaluator,\n",
    "                           ScalarOutcome, IntegerParameter, optimize, Scenario, Constraint)\n",
    "from ema_workbench.em_framework.optimization import EpsilonProgress, HyperVolume\n",
    "from ema_workbench.util import ema_logging\n",
    "from ema_workbench import  IpyparallelEvaluator\n",
    "from ema_workbench import RealParameter\n",
    "from problem_formulation import get_model_for_problem_formulation\n",
    "import matplotlib.pyplot as plt\n",
    "import seaborn as sns\n",
    "\n",
    "ema_logging.log_to_stderr(ema_logging.INFO)\n",
    "\n",
    "dike_model = model\n",
    "\n",
    "reference_values = {'Bmax': 175, 'Brate': 1.5, 'pfail': 0.5,\n",
    "                    'discount rate': 3.5,\n",
    "                    'ID flood wave shape': 4}\n",
    "\n",
    "scen1 = {}\n",
    "\n",
    "for key in model.uncertainties:\n",
    "    name_split = key.name.split('_')\n",
    "\n",
    "    if len(name_split) == 1:\n",
    "        scen1.update({key.name: reference_values[key.name]})\n",
    "    else:\n",
    "        scen1.update({key.name: reference_values[name_split[1]]})\n",
    "        \n",
    "ref_scenario = Scenario('reference', **scen1)\n",
    "\n",
    "convergence_metrics = [EpsilonProgress()]\n",
    "\n",
    "epsilon = [1000] * len(dike_model.outcomes)\n",
    "\n",
    "nfe = 50\n",
    "\n",
    "constraints = [Constraint(\"A1Deaths_0\", outcome_names='A.1_Expected Number of Deaths', function = lambda x:(max(0, x))),\n",
    "               Constraint(\"A2Deaths_0\", outcome_names='A.2_Expected Number of Deaths', function = lambda x:(max(0, x))),\n",
    "               Constraint(\"A3Deaths_0\", outcome_names='A.3_Expected Number of Deaths', function = lambda x:(max(0, x))),\n",
    "               Constraint(\"A4Deaths_0\", outcome_names='A.4_Expected Number of Deaths', function = lambda x:(max(0, x))),\n",
    "               Constraint(\"A5Deaths_0\", outcome_names='A.5_Expected Number of Deaths', function = lambda x:(max(0, x))),\n",
    "              ]\n",
    "\n",
    "with MultiprocessingEvaluator(dike_model) as evaluator:\n",
    "    results, convergence = evaluator.optimize(nfe=nfe,\n",
    "                                              searchover='levers',\n",
    "                                              epsilons=epsilon,\n",
    "                                              convergence=convergence_metrics,\n",
    "                                              reference=ref_scenario,\n",
    "                                              constraints = constraints\n",
    "                                              )\n",
    "\n",
    "fig, (ax1, ax2) = plt.subplots(ncols=2, sharex=True, figsize=(8,4))\n",
    "ax1.plot(convergence.nfe, convergence.epsilon_progress)\n",
    "ax1.set_ylabel('$\\epsilon$-progress')\n",
    "\n",
    "ax1.set_xlabel('number of function evaluations')\n",
    "ax2.set_xlabel('number of function evaluations')\n",
    "plt.show()"
   ]
  },
  {
   "cell_type": "code",
   "execution_count": null,
   "metadata": {},
   "outputs": [],
   "source": []
  }
 ],
 "metadata": {
  "kernelspec": {
   "display_name": "Python 3",
   "language": "python",
   "name": "python3"
  },
  "language_info": {
   "codemirror_mode": {
    "name": "ipython",
    "version": 3
   },
   "file_extension": ".py",
   "mimetype": "text/x-python",
   "name": "python",
   "nbconvert_exporter": "python",
   "pygments_lexer": "ipython3",
   "version": "3.6.4"
  }
 },
 "nbformat": 4,
 "nbformat_minor": 2
}
